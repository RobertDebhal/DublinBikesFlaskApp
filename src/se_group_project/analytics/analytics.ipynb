{
 "cells": [
  {
   "cell_type": "code",
   "execution_count": 1,
   "metadata": {
    "collapsed": true
   },
   "outputs": [],
   "source": [
    "import pandas as pd\n",
    "\n",
    "graph_df = pd.read_csv('analytics.csv')\n",
    "\n",
    "\n",
    "\n",
    "raining_list = []\n",
    "\n",
    "not_raining_list = []\n",
    "\n",
    "graph_df['date_time']=pd.to_datetime(graph_df['last_update']/1000, unit='s')\n",
    "\n",
    "graph_df['date_time'].head()\n",
    "\n",
    "graph_df['hours']= graph_df['date_time'].dt.hour\n"
   ]
  },
  {
   "cell_type": "code",
   "execution_count": 2,
   "metadata": {},
   "outputs": [
    {
     "data": {
      "text/html": [
       "<div>\n",
       "<style>\n",
       "    .dataframe thead tr:only-child th {\n",
       "        text-align: right;\n",
       "    }\n",
       "\n",
       "    .dataframe thead th {\n",
       "        text-align: left;\n",
       "    }\n",
       "\n",
       "    .dataframe tbody tr th {\n",
       "        vertical-align: top;\n",
       "    }\n",
       "</style>\n",
       "<table border=\"1\" class=\"dataframe\">\n",
       "  <thead>\n",
       "    <tr style=\"text-align: right;\">\n",
       "      <th></th>\n",
       "      <th>Unnamed: 0</th>\n",
       "      <th>available_bike_stands</th>\n",
       "      <th>available_bikes</th>\n",
       "      <th>bike_stands</th>\n",
       "      <th>last_update</th>\n",
       "      <th>number</th>\n",
       "      <th>status</th>\n",
       "      <th>latest_weather</th>\n",
       "      <th>clouds</th>\n",
       "      <th>conditions</th>\n",
       "      <th>date</th>\n",
       "      <th>description</th>\n",
       "      <th>sunrise</th>\n",
       "      <th>sunset</th>\n",
       "      <th>temperature</th>\n",
       "      <th>wind</th>\n",
       "      <th>date_time</th>\n",
       "      <th>hours</th>\n",
       "    </tr>\n",
       "  </thead>\n",
       "  <tbody>\n",
       "    <tr>\n",
       "      <th>0</th>\n",
       "      <td>0</td>\n",
       "      <td>4</td>\n",
       "      <td>27</td>\n",
       "      <td>31</td>\n",
       "      <td>1521126715000</td>\n",
       "      <td>1</td>\n",
       "      <td>OPEN</td>\n",
       "      <td>1521124200</td>\n",
       "      <td>40</td>\n",
       "      <td>Clouds</td>\n",
       "      <td>1521124200</td>\n",
       "      <td>scattered clouds</td>\n",
       "      <td>1521095903</td>\n",
       "      <td>1521138611</td>\n",
       "      <td>10.52</td>\n",
       "      <td>8.7</td>\n",
       "      <td>2018-03-15 15:11:55</td>\n",
       "      <td>15</td>\n",
       "    </tr>\n",
       "    <tr>\n",
       "      <th>1</th>\n",
       "      <td>1</td>\n",
       "      <td>1</td>\n",
       "      <td>30</td>\n",
       "      <td>31</td>\n",
       "      <td>1521127532000</td>\n",
       "      <td>1</td>\n",
       "      <td>OPEN</td>\n",
       "      <td>1521124200</td>\n",
       "      <td>40</td>\n",
       "      <td>Clouds</td>\n",
       "      <td>1521124200</td>\n",
       "      <td>scattered clouds</td>\n",
       "      <td>1521095903</td>\n",
       "      <td>1521138611</td>\n",
       "      <td>10.52</td>\n",
       "      <td>8.7</td>\n",
       "      <td>2018-03-15 15:25:32</td>\n",
       "      <td>15</td>\n",
       "    </tr>\n",
       "    <tr>\n",
       "      <th>2</th>\n",
       "      <td>2</td>\n",
       "      <td>20</td>\n",
       "      <td>0</td>\n",
       "      <td>20</td>\n",
       "      <td>1521126523000</td>\n",
       "      <td>2</td>\n",
       "      <td>OPEN</td>\n",
       "      <td>1521124200</td>\n",
       "      <td>40</td>\n",
       "      <td>Clouds</td>\n",
       "      <td>1521124200</td>\n",
       "      <td>scattered clouds</td>\n",
       "      <td>1521095903</td>\n",
       "      <td>1521138611</td>\n",
       "      <td>10.52</td>\n",
       "      <td>8.7</td>\n",
       "      <td>2018-03-15 15:08:43</td>\n",
       "      <td>15</td>\n",
       "    </tr>\n",
       "    <tr>\n",
       "      <th>3</th>\n",
       "      <td>3</td>\n",
       "      <td>20</td>\n",
       "      <td>0</td>\n",
       "      <td>20</td>\n",
       "      <td>1521127131000</td>\n",
       "      <td>2</td>\n",
       "      <td>OPEN</td>\n",
       "      <td>1521124200</td>\n",
       "      <td>40</td>\n",
       "      <td>Clouds</td>\n",
       "      <td>1521124200</td>\n",
       "      <td>scattered clouds</td>\n",
       "      <td>1521095903</td>\n",
       "      <td>1521138611</td>\n",
       "      <td>10.52</td>\n",
       "      <td>8.7</td>\n",
       "      <td>2018-03-15 15:18:51</td>\n",
       "      <td>15</td>\n",
       "    </tr>\n",
       "    <tr>\n",
       "      <th>4</th>\n",
       "      <td>4</td>\n",
       "      <td>18</td>\n",
       "      <td>2</td>\n",
       "      <td>20</td>\n",
       "      <td>1521126673000</td>\n",
       "      <td>3</td>\n",
       "      <td>OPEN</td>\n",
       "      <td>1521124200</td>\n",
       "      <td>40</td>\n",
       "      <td>Clouds</td>\n",
       "      <td>1521124200</td>\n",
       "      <td>scattered clouds</td>\n",
       "      <td>1521095903</td>\n",
       "      <td>1521138611</td>\n",
       "      <td>10.52</td>\n",
       "      <td>8.7</td>\n",
       "      <td>2018-03-15 15:11:13</td>\n",
       "      <td>15</td>\n",
       "    </tr>\n",
       "  </tbody>\n",
       "</table>\n",
       "</div>"
      ],
      "text/plain": [
       "   Unnamed: 0  available_bike_stands  available_bikes  bike_stands  \\\n",
       "0           0                      4               27           31   \n",
       "1           1                      1               30           31   \n",
       "2           2                     20                0           20   \n",
       "3           3                     20                0           20   \n",
       "4           4                     18                2           20   \n",
       "\n",
       "     last_update  number status  latest_weather  clouds conditions  \\\n",
       "0  1521126715000       1   OPEN      1521124200      40     Clouds   \n",
       "1  1521127532000       1   OPEN      1521124200      40     Clouds   \n",
       "2  1521126523000       2   OPEN      1521124200      40     Clouds   \n",
       "3  1521127131000       2   OPEN      1521124200      40     Clouds   \n",
       "4  1521126673000       3   OPEN      1521124200      40     Clouds   \n",
       "\n",
       "         date       description     sunrise      sunset  temperature  wind  \\\n",
       "0  1521124200  scattered clouds  1521095903  1521138611        10.52   8.7   \n",
       "1  1521124200  scattered clouds  1521095903  1521138611        10.52   8.7   \n",
       "2  1521124200  scattered clouds  1521095903  1521138611        10.52   8.7   \n",
       "3  1521124200  scattered clouds  1521095903  1521138611        10.52   8.7   \n",
       "4  1521124200  scattered clouds  1521095903  1521138611        10.52   8.7   \n",
       "\n",
       "            date_time  hours  \n",
       "0 2018-03-15 15:11:55     15  \n",
       "1 2018-03-15 15:25:32     15  \n",
       "2 2018-03-15 15:08:43     15  \n",
       "3 2018-03-15 15:18:51     15  \n",
       "4 2018-03-15 15:11:13     15  "
      ]
     },
     "execution_count": 2,
     "metadata": {},
     "output_type": "execute_result"
    }
   ],
   "source": [
    "graph_df.head()"
   ]
  },
  {
   "cell_type": "code",
   "execution_count": 3,
   "metadata": {},
   "outputs": [
    {
     "data": {
      "text/plain": [
       "['broken clouds',\n",
       " 'clear sky',\n",
       " 'few clouds',\n",
       " 'fog',\n",
       " 'light intensity drizzle',\n",
       " 'light intensity drizzle rain',\n",
       " 'light intensity shower rain',\n",
       " 'light rain',\n",
       " 'light shower snow',\n",
       " 'light snow',\n",
       " 'mist',\n",
       " 'moderate rain',\n",
       " 'scattered clouds',\n",
       " 'shower rain',\n",
       " 'shower sleet',\n",
       " 'shower snow']"
      ]
     },
     "execution_count": 3,
     "metadata": {},
     "output_type": "execute_result"
    }
   ],
   "source": [
    "sorted(pd.unique(graph_df.description).ravel())\n",
    "\n"
   ]
  },
  {
   "cell_type": "code",
   "execution_count": 4,
   "metadata": {},
   "outputs": [
    {
     "name": "stdout",
     "output_type": "stream",
     "text": [
      "155900 155900\n"
     ]
    }
   ],
   "source": [
    "df_rain = graph_df[(graph_df['description']=='moderate rain')  ]\n",
    "# df_rain\n",
    "df_not_rain = graph_df[(graph_df['description']!='moderate rain')  ]\n",
    "# df_rain\n",
    "print(df_rain.shape[0]+df_not_rain.shape[0],graph_df.shape[0])\n"
   ]
  },
  {
   "cell_type": "code",
   "execution_count": 5,
   "metadata": {
    "scrolled": true
   },
   "outputs": [
    {
     "ename": "KeyError",
     "evalue": "10",
     "output_type": "error",
     "traceback": [
      "\u001b[0;31m---------------------------------------------------------------------------\u001b[0m",
      "\u001b[0;31mKeyError\u001b[0m                                  Traceback (most recent call last)",
      "\u001b[0;32m<ipython-input-5-4505738dee28>\u001b[0m in \u001b[0;36m<module>\u001b[0;34m()\u001b[0m\n\u001b[1;32m     16\u001b[0m      \u001b[0;31m#print(i)\u001b[0m\u001b[0;34m\u001b[0m\u001b[0;34m\u001b[0m\u001b[0m\n\u001b[1;32m     17\u001b[0m     \u001b[0;32mreturn\u001b[0m \u001b[0mbikes_by_station_by_hour\u001b[0m\u001b[0;34m\u001b[0m\u001b[0m\n\u001b[0;32m---> 18\u001b[0;31m \u001b[0mrain_list\u001b[0m\u001b[0;34m=\u001b[0m \u001b[0mmake_availability_list\u001b[0m\u001b[0;34m(\u001b[0m\u001b[0mdf_rain\u001b[0m\u001b[0;34m)\u001b[0m\u001b[0;34m\u001b[0m\u001b[0m\n\u001b[0m\u001b[1;32m     19\u001b[0m \u001b[0mno_rain_list\u001b[0m\u001b[0;34m=\u001b[0m \u001b[0mmake_availability_list\u001b[0m\u001b[0;34m(\u001b[0m\u001b[0mdf_not_rain\u001b[0m \u001b[0;34m)\u001b[0m\u001b[0;34m\u001b[0m\u001b[0m\n\u001b[1;32m     20\u001b[0m \u001b[0;31m# print(l1,l2)\u001b[0m\u001b[0;34m\u001b[0m\u001b[0;34m\u001b[0m\u001b[0m\n",
      "\u001b[0;32m<ipython-input-5-4505738dee28>\u001b[0m in \u001b[0;36mmake_availability_list\u001b[0;34m(df)\u001b[0m\n\u001b[1;32m     11\u001b[0m         \u001b[0mhour\u001b[0m \u001b[0;34m=\u001b[0m \u001b[0mdf\u001b[0m\u001b[0;34m[\u001b[0m\u001b[0mdf\u001b[0m\u001b[0;34m[\u001b[0m\u001b[0;34m'hours'\u001b[0m\u001b[0;34m]\u001b[0m\u001b[0;34m==\u001b[0m\u001b[0mi\u001b[0m\u001b[0;34m]\u001b[0m    \u001b[0;31m#for each hour create data frame with only that hour to calculate avg for that hour\u001b[0m\u001b[0;34m\u001b[0m\u001b[0m\n\u001b[1;32m     12\u001b[0m         \u001b[0;32mfor\u001b[0m \u001b[0mj\u001b[0m \u001b[0;32min\u001b[0m \u001b[0mnumbers\u001b[0m\u001b[0;34m:\u001b[0m    \u001b[0;31m#iterate over unique station numbers\u001b[0m\u001b[0;34m\u001b[0m\u001b[0m\n\u001b[0;32m---> 13\u001b[0;31m             \u001b[0mavg_available_bikes\u001b[0m \u001b[0;34m=\u001b[0m \u001b[0mhour\u001b[0m\u001b[0;34m.\u001b[0m\u001b[0mgroupby\u001b[0m\u001b[0;34m(\u001b[0m\u001b[0;34m[\u001b[0m\u001b[0;34m'number'\u001b[0m\u001b[0;34m]\u001b[0m\u001b[0;34m)\u001b[0m\u001b[0;34m[\u001b[0m\u001b[0;34m'available_bikes'\u001b[0m\u001b[0;34m]\u001b[0m\u001b[0;34m.\u001b[0m\u001b[0mmean\u001b[0m\u001b[0;34m(\u001b[0m\u001b[0;34m)\u001b[0m\u001b[0;34m[\u001b[0m\u001b[0mj\u001b[0m\u001b[0;34m]\u001b[0m    \u001b[0;31m#get mean available_bikes for station j\u001b[0m\u001b[0;34m\u001b[0m\u001b[0m\n\u001b[0m\u001b[1;32m     14\u001b[0m             \u001b[0mbikes_by_station_by_hour\u001b[0m\u001b[0;34m[\u001b[0m\u001b[0mj\u001b[0m\u001b[0;34m]\u001b[0m\u001b[0;34m.\u001b[0m\u001b[0mappend\u001b[0m\u001b[0;34m(\u001b[0m\u001b[0mavg_available_bikes\u001b[0m\u001b[0;34m)\u001b[0m\u001b[0;34m\u001b[0m\u001b[0m\n\u001b[1;32m     15\u001b[0m     \u001b[0;31m#         bikes_by_station_by_hour[j].append(i)\u001b[0m\u001b[0;34m\u001b[0m\u001b[0;34m\u001b[0m\u001b[0m\n",
      "\u001b[0;32m~/anaconda3/lib/python3.6/site-packages/pandas/core/series.py\u001b[0m in \u001b[0;36m__getitem__\u001b[0;34m(self, key)\u001b[0m\n\u001b[1;32m    599\u001b[0m         \u001b[0mkey\u001b[0m \u001b[0;34m=\u001b[0m \u001b[0mcom\u001b[0m\u001b[0;34m.\u001b[0m\u001b[0m_apply_if_callable\u001b[0m\u001b[0;34m(\u001b[0m\u001b[0mkey\u001b[0m\u001b[0;34m,\u001b[0m \u001b[0mself\u001b[0m\u001b[0;34m)\u001b[0m\u001b[0;34m\u001b[0m\u001b[0m\n\u001b[1;32m    600\u001b[0m         \u001b[0;32mtry\u001b[0m\u001b[0;34m:\u001b[0m\u001b[0;34m\u001b[0m\u001b[0m\n\u001b[0;32m--> 601\u001b[0;31m             \u001b[0mresult\u001b[0m \u001b[0;34m=\u001b[0m \u001b[0mself\u001b[0m\u001b[0;34m.\u001b[0m\u001b[0mindex\u001b[0m\u001b[0;34m.\u001b[0m\u001b[0mget_value\u001b[0m\u001b[0;34m(\u001b[0m\u001b[0mself\u001b[0m\u001b[0;34m,\u001b[0m \u001b[0mkey\u001b[0m\u001b[0;34m)\u001b[0m\u001b[0;34m\u001b[0m\u001b[0m\n\u001b[0m\u001b[1;32m    602\u001b[0m \u001b[0;34m\u001b[0m\u001b[0m\n\u001b[1;32m    603\u001b[0m             \u001b[0;32mif\u001b[0m \u001b[0;32mnot\u001b[0m \u001b[0mis_scalar\u001b[0m\u001b[0;34m(\u001b[0m\u001b[0mresult\u001b[0m\u001b[0;34m)\u001b[0m\u001b[0;34m:\u001b[0m\u001b[0;34m\u001b[0m\u001b[0m\n",
      "\u001b[0;32m~/anaconda3/lib/python3.6/site-packages/pandas/core/indexes/base.py\u001b[0m in \u001b[0;36mget_value\u001b[0;34m(self, series, key)\u001b[0m\n\u001b[1;32m   2475\u001b[0m         \u001b[0;32mtry\u001b[0m\u001b[0;34m:\u001b[0m\u001b[0;34m\u001b[0m\u001b[0m\n\u001b[1;32m   2476\u001b[0m             return self._engine.get_value(s, k,\n\u001b[0;32m-> 2477\u001b[0;31m                                           tz=getattr(series.dtype, 'tz', None))\n\u001b[0m\u001b[1;32m   2478\u001b[0m         \u001b[0;32mexcept\u001b[0m \u001b[0mKeyError\u001b[0m \u001b[0;32mas\u001b[0m \u001b[0me1\u001b[0m\u001b[0;34m:\u001b[0m\u001b[0;34m\u001b[0m\u001b[0m\n\u001b[1;32m   2479\u001b[0m             \u001b[0;32mif\u001b[0m \u001b[0mlen\u001b[0m\u001b[0;34m(\u001b[0m\u001b[0mself\u001b[0m\u001b[0;34m)\u001b[0m \u001b[0;34m>\u001b[0m \u001b[0;36m0\u001b[0m \u001b[0;32mand\u001b[0m \u001b[0mself\u001b[0m\u001b[0;34m.\u001b[0m\u001b[0minferred_type\u001b[0m \u001b[0;32min\u001b[0m \u001b[0;34m[\u001b[0m\u001b[0;34m'integer'\u001b[0m\u001b[0;34m,\u001b[0m \u001b[0;34m'boolean'\u001b[0m\u001b[0;34m]\u001b[0m\u001b[0;34m:\u001b[0m\u001b[0;34m\u001b[0m\u001b[0m\n",
      "\u001b[0;32mpandas/_libs/index.pyx\u001b[0m in \u001b[0;36mpandas._libs.index.IndexEngine.get_value\u001b[0;34m()\u001b[0m\n",
      "\u001b[0;32mpandas/_libs/index.pyx\u001b[0m in \u001b[0;36mpandas._libs.index.IndexEngine.get_value\u001b[0;34m()\u001b[0m\n",
      "\u001b[0;32mpandas/_libs/index.pyx\u001b[0m in \u001b[0;36mpandas._libs.index.IndexEngine.get_loc\u001b[0;34m()\u001b[0m\n",
      "\u001b[0;32mpandas/_libs/hashtable_class_helper.pxi\u001b[0m in \u001b[0;36mpandas._libs.hashtable.Int64HashTable.get_item\u001b[0;34m()\u001b[0m\n",
      "\u001b[0;32mpandas/_libs/hashtable_class_helper.pxi\u001b[0m in \u001b[0;36mpandas._libs.hashtable.Int64HashTable.get_item\u001b[0;34m()\u001b[0m\n",
      "\u001b[0;31mKeyError\u001b[0m: 10"
     ]
    }
   ],
   "source": [
    "def make_availability_list(df):    \n",
    "    numbers = df['number'].unique()   #create list of unique station numbers\n",
    "    bikes_by_station_by_hour = {}    #will store avg available_bikes for each station by hour of day\n",
    "    for i in numbers:\n",
    "        bikes_by_station_by_hour[i]=[]\n",
    "\n",
    "    bikes_by_station_by_hour[2]\n",
    "    hours = df['hours'].unique()   #create list of 24 hours\n",
    "    hours.sort()      #sort hours\n",
    "    for i in hours:    #iterate over hours\n",
    "        hour = df[df['hours']==i]    #for each hour create data frame with only that hour to calculate avg for that hour\n",
    "        for j in numbers:    #iterate over unique station numbers\n",
    "            avg_available_bikes = hour.groupby(['number'])['available_bikes'].mean()[j]    #get mean available_bikes for station j\n",
    "            bikes_by_station_by_hour[j].append(avg_available_bikes)\n",
    "    #         bikes_by_station_by_hour[j].append(i)\n",
    "     #print(i)\n",
    "    return bikes_by_station_by_hour\n",
    "\n",
    "rain_list= make_availability_list(df_rain)\n",
    "no_rain_list= make_availability_list(df_not_rain )\n",
    "# print(l1,l2)"
   ]
  },
  {
   "cell_type": "code",
   "execution_count": null,
   "metadata": {
    "collapsed": true
   },
   "outputs": [],
   "source": [
    "#  bikes_by_station_by_hour[1]\n"
   ]
  },
  {
   "cell_type": "code",
   "execution_count": null,
   "metadata": {
    "collapsed": true
   },
   "outputs": [],
   "source": [
    "station_rain=rain_list[1]\n",
    "station_no_rain=no_rain_list[1]\n"
   ]
  },
  {
   "cell_type": "code",
   "execution_count": null,
   "metadata": {
    "collapsed": true
   },
   "outputs": [],
   "source": [
    "df = pd.DataFrame(data ={'hour':hours,'rain':station_rain,'not rain':station_no_rain})"
   ]
  },
  {
   "cell_type": "code",
   "execution_count": null,
   "metadata": {
    "collapsed": true
   },
   "outputs": [],
   "source": [
    "group = df.groupby('hour')"
   ]
  },
  {
   "cell_type": "code",
   "execution_count": null,
   "metadata": {
    "collapsed": true
   },
   "outputs": [],
   "source": [
    "import pandas as pd\n",
    "import numpy as np\n",
    "import matplotlib.pyplot as plt\n",
    "%matplotlib inline\n",
    "avg = group.sum()\n",
    "print(avg)\n",
    "avg.plot(kind='bar')\n"
   ]
  },
  {
   "cell_type": "code",
   "execution_count": null,
   "metadata": {
    "collapsed": true
   },
   "outputs": [],
   "source": []
  },
  {
   "cell_type": "code",
   "execution_count": null,
   "metadata": {
    "collapsed": true
   },
   "outputs": [],
   "source": []
  },
  {
   "cell_type": "code",
   "execution_count": null,
   "metadata": {
    "collapsed": true
   },
   "outputs": [],
   "source": []
  },
  {
   "cell_type": "code",
   "execution_count": null,
   "metadata": {
    "collapsed": true
   },
   "outputs": [],
   "source": []
  }
 ],
 "metadata": {
  "kernelspec": {
   "display_name": "Python 3",
   "language": "python",
   "name": "python3"
  },
  "language_info": {
   "codemirror_mode": {
    "name": "ipython",
    "version": 3
   },
   "file_extension": ".py",
   "mimetype": "text/x-python",
   "name": "python",
   "nbconvert_exporter": "python",
   "pygments_lexer": "ipython3",
   "version": "3.6.3"
  }
 },
 "nbformat": 4,
 "nbformat_minor": 2
}
