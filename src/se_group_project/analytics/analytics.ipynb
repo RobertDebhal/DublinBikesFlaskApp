{
 "cells": [
  {
   "cell_type": "code",
   "execution_count": 1,
   "metadata": {},
   "outputs": [],
   "source": [
    "import pandas as pd\n",
    "\n",
    "graph_df = pd.read_csv('analytics.csv')\n",
    "\n",
    "graph_df.head()\n",
    "\n",
    "raining_list = []\n",
    "\n",
    "not_raining_list = []\n",
    "\n",
    "graph_df['date_time']=pd.to_datetime(graph_df['last_update']/1000, unit='s')\n",
    "\n",
    "graph_df['date_time'].head()\n",
    "\n",
    "graph_df['hours']= graph_df['date_time'].dt.hour\n"
   ]
  },
  {
   "cell_type": "code",
   "execution_count": 2,
   "metadata": {},
   "outputs": [
    {
     "data": {
      "text/plain": [
       "[]"
      ]
     },
     "execution_count": 2,
     "metadata": {},
     "output_type": "execute_result"
    }
   ],
   "source": [
    "numbers = graph_df['number'].unique()   #create list of unique station numbers\n",
    "\n",
    "bikes_by_station_by_hour = {}    #will store avg available_bikes for each station by hour of day\n",
    "\n",
    "for i in numbers:\n",
    "    bikes_by_station_by_hour[i]=[]\n",
    "\n",
    "bikes_by_station_by_hour[2]"
   ]
  },
  {
   "cell_type": "code",
   "execution_count": 3,
   "metadata": {
    "scrolled": true
   },
   "outputs": [],
   "source": [
    "hours = graph_df['hours'].unique()   #create list of 24 hours\n",
    "hours.sort()    #sort hours\n",
    "     \n",
    "\n",
    "\n",
    "for i in hours:    #iterate over hours\n",
    "    hour = graph_df[graph_df['hours']==i]    #for each hour create data frame with only that hour to calculate avg for that hour\n",
    "    for j in numbers:    #iterate over unique station numbers\n",
    "        avg_available_bikes = hour.groupby(['number'])['available_bikes'].mean()[j]    #get mean available_bikes for station j\n",
    "        bikes_by_station_by_hour[j].append(avg_available_bikes)\n",
    "#         bikes_by_station_by_hour[j].append(i)\n",
    "        #print(i)\n"
   ]
  },
  {
   "cell_type": "code",
   "execution_count": 4,
   "metadata": {},
   "outputs": [],
   "source": [
    "#  bikes_by_station_by_hour[1]"
   ]
  },
  {
   "cell_type": "code",
   "execution_count": 33,
   "metadata": {},
   "outputs": [
    {
     "data": {
      "text/plain": [
       "[10.652777777777779,\n",
       " 10.777777777777779,\n",
       " 11.079365079365079,\n",
       " 10.596491228070175,\n",
       " 9.4179104477611943,\n",
       " 10.253731343283581,\n",
       " 12.016129032258064,\n",
       " 14.530303030303031,\n",
       " 20.03448275862069,\n",
       " 21.309090909090909,\n",
       " 20.07017543859649,\n",
       " 20.241935483870968,\n",
       " 21.12280701754386,\n",
       " 20.75,\n",
       " 20.491803278688526,\n",
       " 17.5,\n",
       " 11.623188405797102,\n",
       " 7.2898550724637685,\n",
       " 8.2537313432835813,\n",
       " 8.6060606060606055,\n",
       " 9.935483870967742,\n",
       " 10.903225806451612,\n",
       " 10.403225806451612,\n",
       " 10.421875]"
      ]
     },
     "execution_count": 33,
     "metadata": {},
     "output_type": "execute_result"
    }
   ],
   "source": [
    "station1=bikes_by_station_by_hour[105]\n",
    "station1\n",
    "station2=bikes_by_station_by_hour[25]\n",
    "station2"
   ]
  },
  {
   "cell_type": "code",
   "execution_count": 34,
   "metadata": {},
   "outputs": [],
   "source": [
    "df = pd.DataFrame(data ={'hour':hours,'available_bikes':station1,'available_bikes2':station2})"
   ]
  },
  {
   "cell_type": "code",
   "execution_count": 35,
   "metadata": {},
   "outputs": [],
   "source": [
    "group = df.groupby('hour')"
   ]
  },
  {
   "cell_type": "code",
   "execution_count": 37,
   "metadata": {},
   "outputs": [
    {
     "name": "stdout",
     "output_type": "stream",
     "text": [
      "      available_bikes  available_bikes2\n",
      "hour                                   \n",
      "0            5.093023         10.652778\n",
      "1            4.950000         10.777778\n",
      "2            4.787879         11.079365\n",
      "3            4.666667         10.596491\n",
      "4            4.595238          9.417910\n",
      "5            4.684211         10.253731\n",
      "6            4.257143         12.016129\n",
      "7            3.552632         14.530303\n",
      "8            1.900000         20.034483\n",
      "9            1.387097         21.309091\n",
      "10           1.114286         20.070175\n",
      "11           1.205128         20.241935\n",
      "12           1.459459         21.122807\n",
      "13           2.121951         20.750000\n",
      "14           3.315789         20.491803\n",
      "15           3.057143         17.500000\n",
      "16           3.581395         11.623188\n",
      "17           4.219512          7.289855\n",
      "18           4.051282          8.253731\n",
      "19           4.292683          8.606061\n",
      "20           4.702703          9.935484\n",
      "21           4.666667         10.903226\n",
      "22           5.085714         10.403226\n",
      "23           4.875000         10.421875\n"
     ]
    },
    {
     "data": {
      "text/plain": [
       "<matplotlib.axes._subplots.AxesSubplot at 0x7fa3e80e6f28>"
      ]
     },
     "execution_count": 37,
     "metadata": {},
     "output_type": "execute_result"
    },
    {
     "data": {
      "image/png": "[encoded data removed]",
      "text/plain": [
       "<matplotlib.figure.Figure at 0x7fa3e80ef5c0>"
      ]
     },
     "metadata": {},
     "output_type": "display_data"
    }
   ],
   "source": [
    "import pandas as pd\n",
    "import numpy as np\n",
    "import matplotlib.pyplot as plt\n",
    "%matplotlib inline\n",
    "avg = group.sum()\n",
    "print(avg)\n",
    "avg.plot(kind='bar')\n"
   ]
  },
  {
   "cell_type": "code",
   "execution_count": null,
   "metadata": {
    "collapsed": true
   },
   "outputs": [],
   "source": []
  }
 ],
 "metadata": {
  "kernelspec": {
   "display_name": "Python 3",
   "language": "python",
   "name": "python3"
  },
  "language_info": {
   "codemirror_mode": {
    "name": "ipython",
    "version": 3
   },
   "file_extension": ".py",
   "mimetype": "text/x-python",
   "name": "python",
   "nbconvert_exporter": "python",
   "pygments_lexer": "ipython3",
   "version": "3.6.3"
  }
 },
 "nbformat": 4,
 "nbformat_minor": 2
}
