{
 "cells": [
  {
   "cell_type": "code",
   "execution_count": 1,
   "metadata": {
    "collapsed": true
   },
   "outputs": [],
   "source": [
    "import pandas as pd"
   ]
  },
  {
   "cell_type": "code",
   "execution_count": 15,
   "metadata": {
    "collapsed": true
   },
   "outputs": [],
   "source": [
    "graph_df = pd.read_csv('analytics.csv')"
   ]
  },
  {
   "cell_type": "code",
   "execution_count": 10,
   "metadata": {},
   "outputs": [
    {
     "data": {
      "text/html": [
       "<div>\n",
       "<style scoped>\n",
       "    .dataframe tbody tr th:only-of-type {\n",
       "        vertical-align: middle;\n",
       "    }\n",
       "\n",
       "    .dataframe tbody tr th {\n",
       "        vertical-align: top;\n",
       "    }\n",
       "\n",
       "    .dataframe thead th {\n",
       "        text-align: right;\n",
       "    }\n",
       "</style>\n",
       "<table border=\"1\" class=\"dataframe\">\n",
       "  <thead>\n",
       "    <tr style=\"text-align: right;\">\n",
       "      <th></th>\n",
       "      <th>Unnamed: 0</th>\n",
       "      <th>available_bike_stands</th>\n",
       "      <th>available_bikes</th>\n",
       "      <th>bike_stands</th>\n",
       "      <th>last_update</th>\n",
       "      <th>number</th>\n",
       "      <th>status</th>\n",
       "      <th>latest_weather</th>\n",
       "      <th>clouds</th>\n",
       "      <th>conditions</th>\n",
       "      <th>date</th>\n",
       "      <th>description</th>\n",
       "      <th>sunrise</th>\n",
       "      <th>sunset</th>\n",
       "      <th>temperature</th>\n",
       "      <th>wind</th>\n",
       "    </tr>\n",
       "  </thead>\n",
       "  <tbody>\n",
       "    <tr>\n",
       "      <th>0</th>\n",
       "      <td>0</td>\n",
       "      <td>4</td>\n",
       "      <td>27</td>\n",
       "      <td>31</td>\n",
       "      <td>1521126715000</td>\n",
       "      <td>1</td>\n",
       "      <td>OPEN</td>\n",
       "      <td>1521124200</td>\n",
       "      <td>40</td>\n",
       "      <td>Clouds</td>\n",
       "      <td>1521124200</td>\n",
       "      <td>scattered clouds</td>\n",
       "      <td>1521095903</td>\n",
       "      <td>1521138611</td>\n",
       "      <td>10.52</td>\n",
       "      <td>8.7</td>\n",
       "    </tr>\n",
       "    <tr>\n",
       "      <th>1</th>\n",
       "      <td>1</td>\n",
       "      <td>1</td>\n",
       "      <td>30</td>\n",
       "      <td>31</td>\n",
       "      <td>1521127532000</td>\n",
       "      <td>1</td>\n",
       "      <td>OPEN</td>\n",
       "      <td>1521124200</td>\n",
       "      <td>40</td>\n",
       "      <td>Clouds</td>\n",
       "      <td>1521124200</td>\n",
       "      <td>scattered clouds</td>\n",
       "      <td>1521095903</td>\n",
       "      <td>1521138611</td>\n",
       "      <td>10.52</td>\n",
       "      <td>8.7</td>\n",
       "    </tr>\n",
       "    <tr>\n",
       "      <th>2</th>\n",
       "      <td>2</td>\n",
       "      <td>20</td>\n",
       "      <td>0</td>\n",
       "      <td>20</td>\n",
       "      <td>1521126523000</td>\n",
       "      <td>2</td>\n",
       "      <td>OPEN</td>\n",
       "      <td>1521124200</td>\n",
       "      <td>40</td>\n",
       "      <td>Clouds</td>\n",
       "      <td>1521124200</td>\n",
       "      <td>scattered clouds</td>\n",
       "      <td>1521095903</td>\n",
       "      <td>1521138611</td>\n",
       "      <td>10.52</td>\n",
       "      <td>8.7</td>\n",
       "    </tr>\n",
       "    <tr>\n",
       "      <th>3</th>\n",
       "      <td>3</td>\n",
       "      <td>20</td>\n",
       "      <td>0</td>\n",
       "      <td>20</td>\n",
       "      <td>1521127131000</td>\n",
       "      <td>2</td>\n",
       "      <td>OPEN</td>\n",
       "      <td>1521124200</td>\n",
       "      <td>40</td>\n",
       "      <td>Clouds</td>\n",
       "      <td>1521124200</td>\n",
       "      <td>scattered clouds</td>\n",
       "      <td>1521095903</td>\n",
       "      <td>1521138611</td>\n",
       "      <td>10.52</td>\n",
       "      <td>8.7</td>\n",
       "    </tr>\n",
       "    <tr>\n",
       "      <th>4</th>\n",
       "      <td>4</td>\n",
       "      <td>18</td>\n",
       "      <td>2</td>\n",
       "      <td>20</td>\n",
       "      <td>1521126673000</td>\n",
       "      <td>3</td>\n",
       "      <td>OPEN</td>\n",
       "      <td>1521124200</td>\n",
       "      <td>40</td>\n",
       "      <td>Clouds</td>\n",
       "      <td>1521124200</td>\n",
       "      <td>scattered clouds</td>\n",
       "      <td>1521095903</td>\n",
       "      <td>1521138611</td>\n",
       "      <td>10.52</td>\n",
       "      <td>8.7</td>\n",
       "    </tr>\n",
       "  </tbody>\n",
       "</table>\n",
       "</div>"
      ],
      "text/plain": [
       "   Unnamed: 0  available_bike_stands  available_bikes  bike_stands  \\\n",
       "0           0                      4               27           31   \n",
       "1           1                      1               30           31   \n",
       "2           2                     20                0           20   \n",
       "3           3                     20                0           20   \n",
       "4           4                     18                2           20   \n",
       "\n",
       "     last_update  number status  latest_weather  clouds conditions  \\\n",
       "0  1521126715000       1   OPEN      1521124200      40     Clouds   \n",
       "1  1521127532000       1   OPEN      1521124200      40     Clouds   \n",
       "2  1521126523000       2   OPEN      1521124200      40     Clouds   \n",
       "3  1521127131000       2   OPEN      1521124200      40     Clouds   \n",
       "4  1521126673000       3   OPEN      1521124200      40     Clouds   \n",
       "\n",
       "         date       description     sunrise      sunset  temperature  wind  \n",
       "0  1521124200  scattered clouds  1521095903  1521138611        10.52   8.7  \n",
       "1  1521124200  scattered clouds  1521095903  1521138611        10.52   8.7  \n",
       "2  1521124200  scattered clouds  1521095903  1521138611        10.52   8.7  \n",
       "3  1521124200  scattered clouds  1521095903  1521138611        10.52   8.7  \n",
       "4  1521124200  scattered clouds  1521095903  1521138611        10.52   8.7  "
      ]
     },
     "execution_count": 10,
     "metadata": {},
     "output_type": "execute_result"
    }
   ],
   "source": [
    "graph_df.head()"
   ]
  },
  {
   "cell_type": "code",
   "execution_count": 12,
   "metadata": {
    "collapsed": true
   },
   "outputs": [],
   "source": [
    "raining_list = []"
   ]
  },
  {
   "cell_type": "code",
   "execution_count": 13,
   "metadata": {
    "collapsed": true
   },
   "outputs": [],
   "source": [
    "not_raining_list = []"
   ]
  },
  {
   "cell_type": "code",
   "execution_count": 29,
   "metadata": {},
   "outputs": [],
   "source": [
    "graph_df['date_time']=pd.to_datetime(graph_df['last_update']/1000, unit='s')"
   ]
  },
  {
   "cell_type": "code",
   "execution_count": 30,
   "metadata": {},
   "outputs": [
    {
     "data": {
      "text/plain": [
       "0   2018-03-15 15:11:55\n",
       "1   2018-03-15 15:25:32\n",
       "2   2018-03-15 15:08:43\n",
       "3   2018-03-15 15:18:51\n",
       "4   2018-03-15 15:11:13\n",
       "Name: date_time, dtype: datetime64[ns]"
      ]
     },
     "execution_count": 30,
     "metadata": {},
     "output_type": "execute_result"
    }
   ],
   "source": [
    "graph_df['date_time'].head()"
   ]
  },
  {
   "cell_type": "code",
   "execution_count": 31,
   "metadata": {},
   "outputs": [
    {
     "data": {
      "text/plain": [
       "Unnamed: 0                        int64\n",
       "available_bike_stands             int64\n",
       "available_bikes                   int64\n",
       "bike_stands                       int64\n",
       "last_update                       int64\n",
       "number                            int64\n",
       "status                           object\n",
       "latest_weather                    int64\n",
       "clouds                            int64\n",
       "conditions                       object\n",
       "date                              int64\n",
       "description                      object\n",
       "sunrise                           int64\n",
       "sunset                            int64\n",
       "temperature                     float64\n",
       "wind                            float64\n",
       "date_time                datetime64[ns]\n",
       "dtype: object"
      ]
     },
     "execution_count": 31,
     "metadata": {},
     "output_type": "execute_result"
    }
   ],
   "source": [
    "graph_df.dtypes"
   ]
  },
  {
   "cell_type": "code",
   "execution_count": null,
   "metadata": {
    "collapsed": true
   },
   "outputs": [],
   "source": []
  }
 ],
 "metadata": {
  "kernelspec": {
   "display_name": "Python 3",
   "language": "python",
   "name": "python3"
  },
  "language_info": {
   "codemirror_mode": {
    "name": "ipython",
    "version": 3
   },
   "file_extension": ".py",
   "mimetype": "text/x-python",
   "name": "python",
   "nbconvert_exporter": "python",
   "pygments_lexer": "ipython3",
   "version": "3.6.3"
  }
 },
 "nbformat": 4,
 "nbformat_minor": 2
}
