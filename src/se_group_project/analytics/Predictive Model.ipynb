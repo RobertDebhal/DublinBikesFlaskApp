{
 "cells": [
  {
   "cell_type": "code",
   "execution_count": 1,
   "metadata": {
    "collapsed": true
   },
   "outputs": [],
   "source": [
    "import pandas as pd\n",
    "import numpy as np\n",
    "import pickle"
   ]
  },
  {
   "cell_type": "code",
   "execution_count": 2,
   "metadata": {
    "collapsed": true
   },
   "outputs": [],
   "source": [
    "df = pd.read_csv('analytics.csv')"
   ]
  },
  {
   "cell_type": "code",
   "execution_count": 3,
   "metadata": {
    "collapsed": true
   },
   "outputs": [],
   "source": [
    "df['date_time']=pd.to_datetime(df['last_update']/1000, unit='s')\n",
    "df['date_time'].head()\n",
    "df['hours']= df['date_time'].dt.hour"
   ]
  },
  {
   "cell_type": "code",
   "execution_count": 4,
   "metadata": {
    "collapsed": true
   },
   "outputs": [],
   "source": [
    "df['day']=df['date_time'].dt.dayofweek"
   ]
  },
  {
   "cell_type": "code",
   "execution_count": 13,
   "metadata": {},
   "outputs": [
    {
     "data": {
      "text/html": [
       "<div>\n",
       "<style scoped>\n",
       "    .dataframe tbody tr th:only-of-type {\n",
       "        vertical-align: middle;\n",
       "    }\n",
       "\n",
       "    .dataframe tbody tr th {\n",
       "        vertical-align: top;\n",
       "    }\n",
       "\n",
       "    .dataframe thead th {\n",
       "        text-align: right;\n",
       "    }\n",
       "</style>\n",
       "<table border=\"1\" class=\"dataframe\">\n",
       "  <thead>\n",
       "    <tr style=\"text-align: right;\">\n",
       "      <th></th>\n",
       "      <th>Unnamed: 0</th>\n",
       "      <th>available_bike_stands</th>\n",
       "      <th>available_bikes</th>\n",
       "      <th>bike_stands</th>\n",
       "      <th>last_update</th>\n",
       "      <th>number</th>\n",
       "      <th>status</th>\n",
       "      <th>latest_weather</th>\n",
       "      <th>clouds</th>\n",
       "      <th>conditions</th>\n",
       "      <th>date</th>\n",
       "      <th>description</th>\n",
       "      <th>sunrise</th>\n",
       "      <th>sunset</th>\n",
       "      <th>temperature</th>\n",
       "      <th>wind</th>\n",
       "      <th>date_time</th>\n",
       "      <th>hours</th>\n",
       "      <th>days</th>\n",
       "      <th>day</th>\n",
       "    </tr>\n",
       "  </thead>\n",
       "  <tbody>\n",
       "    <tr>\n",
       "      <th>24600</th>\n",
       "      <td>24600</td>\n",
       "      <td>12</td>\n",
       "      <td>19</td>\n",
       "      <td>31</td>\n",
       "      <td>1521332012000</td>\n",
       "      <td>1</td>\n",
       "      <td>OPEN</td>\n",
       "      <td>1521329400</td>\n",
       "      <td>75</td>\n",
       "      <td>Rain</td>\n",
       "      <td>1521329400</td>\n",
       "      <td>shower rain</td>\n",
       "      <td>1521354760</td>\n",
       "      <td>1521398072</td>\n",
       "      <td>-0.43</td>\n",
       "      <td>11.3</td>\n",
       "      <td>2018-03-18 00:13:32</td>\n",
       "      <td>0</td>\n",
       "      <td>6</td>\n",
       "      <td>6</td>\n",
       "    </tr>\n",
       "    <tr>\n",
       "      <th>24601</th>\n",
       "      <td>24601</td>\n",
       "      <td>16</td>\n",
       "      <td>4</td>\n",
       "      <td>20</td>\n",
       "      <td>1521331710000</td>\n",
       "      <td>2</td>\n",
       "      <td>OPEN</td>\n",
       "      <td>1521329400</td>\n",
       "      <td>75</td>\n",
       "      <td>Rain</td>\n",
       "      <td>1521329400</td>\n",
       "      <td>shower rain</td>\n",
       "      <td>1521354760</td>\n",
       "      <td>1521398072</td>\n",
       "      <td>-0.43</td>\n",
       "      <td>11.3</td>\n",
       "      <td>2018-03-18 00:08:30</td>\n",
       "      <td>0</td>\n",
       "      <td>6</td>\n",
       "      <td>6</td>\n",
       "    </tr>\n",
       "    <tr>\n",
       "      <th>24602</th>\n",
       "      <td>24602</td>\n",
       "      <td>19</td>\n",
       "      <td>1</td>\n",
       "      <td>20</td>\n",
       "      <td>1521332015000</td>\n",
       "      <td>3</td>\n",
       "      <td>OPEN</td>\n",
       "      <td>1521329400</td>\n",
       "      <td>75</td>\n",
       "      <td>Rain</td>\n",
       "      <td>1521329400</td>\n",
       "      <td>shower rain</td>\n",
       "      <td>1521354760</td>\n",
       "      <td>1521398072</td>\n",
       "      <td>-0.43</td>\n",
       "      <td>11.3</td>\n",
       "      <td>2018-03-18 00:13:35</td>\n",
       "      <td>0</td>\n",
       "      <td>6</td>\n",
       "      <td>6</td>\n",
       "    </tr>\n",
       "    <tr>\n",
       "      <th>24603</th>\n",
       "      <td>24603</td>\n",
       "      <td>20</td>\n",
       "      <td>0</td>\n",
       "      <td>20</td>\n",
       "      <td>1521331637000</td>\n",
       "      <td>4</td>\n",
       "      <td>OPEN</td>\n",
       "      <td>1521329400</td>\n",
       "      <td>75</td>\n",
       "      <td>Rain</td>\n",
       "      <td>1521329400</td>\n",
       "      <td>shower rain</td>\n",
       "      <td>1521354760</td>\n",
       "      <td>1521398072</td>\n",
       "      <td>-0.43</td>\n",
       "      <td>11.3</td>\n",
       "      <td>2018-03-18 00:07:17</td>\n",
       "      <td>0</td>\n",
       "      <td>6</td>\n",
       "      <td>6</td>\n",
       "    </tr>\n",
       "    <tr>\n",
       "      <th>24604</th>\n",
       "      <td>24604</td>\n",
       "      <td>31</td>\n",
       "      <td>9</td>\n",
       "      <td>40</td>\n",
       "      <td>1521331414000</td>\n",
       "      <td>5</td>\n",
       "      <td>OPEN</td>\n",
       "      <td>1521329400</td>\n",
       "      <td>75</td>\n",
       "      <td>Rain</td>\n",
       "      <td>1521329400</td>\n",
       "      <td>shower rain</td>\n",
       "      <td>1521354760</td>\n",
       "      <td>1521398072</td>\n",
       "      <td>-0.43</td>\n",
       "      <td>11.3</td>\n",
       "      <td>2018-03-18 00:03:34</td>\n",
       "      <td>0</td>\n",
       "      <td>6</td>\n",
       "      <td>6</td>\n",
       "    </tr>\n",
       "  </tbody>\n",
       "</table>\n",
       "</div>"
      ],
      "text/plain": [
       "       Unnamed: 0  available_bike_stands  available_bikes  bike_stands  \\\n",
       "24600       24600                     12               19           31   \n",
       "24601       24601                     16                4           20   \n",
       "24602       24602                     19                1           20   \n",
       "24603       24603                     20                0           20   \n",
       "24604       24604                     31                9           40   \n",
       "\n",
       "         last_update  number status  latest_weather  clouds conditions  \\\n",
       "24600  1521332012000       1   OPEN      1521329400      75       Rain   \n",
       "24601  1521331710000       2   OPEN      1521329400      75       Rain   \n",
       "24602  1521332015000       3   OPEN      1521329400      75       Rain   \n",
       "24603  1521331637000       4   OPEN      1521329400      75       Rain   \n",
       "24604  1521331414000       5   OPEN      1521329400      75       Rain   \n",
       "\n",
       "             date  description     sunrise      sunset  temperature  wind  \\\n",
       "24600  1521329400  shower rain  1521354760  1521398072        -0.43  11.3   \n",
       "24601  1521329400  shower rain  1521354760  1521398072        -0.43  11.3   \n",
       "24602  1521329400  shower rain  1521354760  1521398072        -0.43  11.3   \n",
       "24603  1521329400  shower rain  1521354760  1521398072        -0.43  11.3   \n",
       "24604  1521329400  shower rain  1521354760  1521398072        -0.43  11.3   \n",
       "\n",
       "                date_time  hours  days  day  \n",
       "24600 2018-03-18 00:13:32      0     6    6  \n",
       "24601 2018-03-18 00:08:30      0     6    6  \n",
       "24602 2018-03-18 00:13:35      0     6    6  \n",
       "24603 2018-03-18 00:07:17      0     6    6  \n",
       "24604 2018-03-18 00:03:34      0     6    6  "
      ]
     },
     "execution_count": 13,
     "metadata": {},
     "output_type": "execute_result"
    }
   ],
   "source": [
    "df[df['day']==6].head()"
   ]
  },
  {
   "cell_type": "code",
   "execution_count": 14,
   "metadata": {
    "collapsed": true
   },
   "outputs": [],
   "source": [
    "#https://stackoverflow.com/questions/19790790/splitting-dataframe-into-multiple-dataframes\n",
    "\n",
    "#create unique list of names\n",
    "UniqueNumbers = df.number.unique()\n",
    "\n",
    "#create a data frame dictionary to store your data frames\n",
    "DataFrameDictHours = {}\n",
    "\n",
    "for key in UniqueNumbers:\n",
    "    for i in range(7):\n",
    "        for j in range (24):\n",
    "            DataFrameDictHours[str(key)+'/'+str(i)+'/'+str(j)] = df[:][(df.number == key)&(df.hours==j)&(df.day==i)]"
   ]
  },
  {
   "cell_type": "code",
   "execution_count": 15,
   "metadata": {},
   "outputs": [
    {
     "data": {
      "text/html": [
       "<div>\n",
       "<style scoped>\n",
       "    .dataframe tbody tr th:only-of-type {\n",
       "        vertical-align: middle;\n",
       "    }\n",
       "\n",
       "    .dataframe tbody tr th {\n",
       "        vertical-align: top;\n",
       "    }\n",
       "\n",
       "    .dataframe thead th {\n",
       "        text-align: right;\n",
       "    }\n",
       "</style>\n",
       "<table border=\"1\" class=\"dataframe\">\n",
       "  <thead>\n",
       "    <tr style=\"text-align: right;\">\n",
       "      <th></th>\n",
       "      <th>Unnamed: 0</th>\n",
       "      <th>available_bike_stands</th>\n",
       "      <th>available_bikes</th>\n",
       "      <th>bike_stands</th>\n",
       "      <th>last_update</th>\n",
       "      <th>number</th>\n",
       "      <th>status</th>\n",
       "      <th>latest_weather</th>\n",
       "      <th>clouds</th>\n",
       "      <th>conditions</th>\n",
       "      <th>date</th>\n",
       "      <th>description</th>\n",
       "      <th>sunrise</th>\n",
       "      <th>sunset</th>\n",
       "      <th>temperature</th>\n",
       "      <th>wind</th>\n",
       "      <th>date_time</th>\n",
       "      <th>hours</th>\n",
       "      <th>days</th>\n",
       "      <th>day</th>\n",
       "    </tr>\n",
       "  </thead>\n",
       "  <tbody>\n",
       "    <tr>\n",
       "      <th>124074</th>\n",
       "      <td>124074</td>\n",
       "      <td>31</td>\n",
       "      <td>5</td>\n",
       "      <td>36</td>\n",
       "      <td>1522696105000</td>\n",
       "      <td>105</td>\n",
       "      <td>OPEN</td>\n",
       "      <td>1522693800</td>\n",
       "      <td>75</td>\n",
       "      <td>Fog</td>\n",
       "      <td>1522693800</td>\n",
       "      <td>fog</td>\n",
       "      <td>1522648473</td>\n",
       "      <td>1522695799</td>\n",
       "      <td>7.00</td>\n",
       "      <td>3.1</td>\n",
       "      <td>2018-04-02 19:08:25</td>\n",
       "      <td>19</td>\n",
       "      <td>0</td>\n",
       "      <td>0</td>\n",
       "    </tr>\n",
       "    <tr>\n",
       "      <th>124075</th>\n",
       "      <td>124075</td>\n",
       "      <td>31</td>\n",
       "      <td>5</td>\n",
       "      <td>36</td>\n",
       "      <td>1522696719000</td>\n",
       "      <td>105</td>\n",
       "      <td>OPEN</td>\n",
       "      <td>1522693800</td>\n",
       "      <td>75</td>\n",
       "      <td>Fog</td>\n",
       "      <td>1522693800</td>\n",
       "      <td>fog</td>\n",
       "      <td>1522648473</td>\n",
       "      <td>1522695799</td>\n",
       "      <td>7.00</td>\n",
       "      <td>3.1</td>\n",
       "      <td>2018-04-02 19:18:39</td>\n",
       "      <td>19</td>\n",
       "      <td>0</td>\n",
       "      <td>0</td>\n",
       "    </tr>\n",
       "    <tr>\n",
       "      <th>124591</th>\n",
       "      <td>124591</td>\n",
       "      <td>31</td>\n",
       "      <td>5</td>\n",
       "      <td>36</td>\n",
       "      <td>1522697334000</td>\n",
       "      <td>105</td>\n",
       "      <td>OPEN</td>\n",
       "      <td>1522695600</td>\n",
       "      <td>75</td>\n",
       "      <td>Fog</td>\n",
       "      <td>1522695600</td>\n",
       "      <td>fog</td>\n",
       "      <td>1522648470</td>\n",
       "      <td>1522695801</td>\n",
       "      <td>6.51</td>\n",
       "      <td>2.1</td>\n",
       "      <td>2018-04-02 19:28:54</td>\n",
       "      <td>19</td>\n",
       "      <td>0</td>\n",
       "      <td>0</td>\n",
       "    </tr>\n",
       "    <tr>\n",
       "      <th>124592</th>\n",
       "      <td>124592</td>\n",
       "      <td>31</td>\n",
       "      <td>5</td>\n",
       "      <td>36</td>\n",
       "      <td>1522697949000</td>\n",
       "      <td>105</td>\n",
       "      <td>OPEN</td>\n",
       "      <td>1522695600</td>\n",
       "      <td>75</td>\n",
       "      <td>Fog</td>\n",
       "      <td>1522695600</td>\n",
       "      <td>fog</td>\n",
       "      <td>1522648470</td>\n",
       "      <td>1522695801</td>\n",
       "      <td>6.51</td>\n",
       "      <td>2.1</td>\n",
       "      <td>2018-04-02 19:39:09</td>\n",
       "      <td>19</td>\n",
       "      <td>0</td>\n",
       "      <td>0</td>\n",
       "    </tr>\n",
       "    <tr>\n",
       "      <th>124593</th>\n",
       "      <td>124593</td>\n",
       "      <td>31</td>\n",
       "      <td>5</td>\n",
       "      <td>36</td>\n",
       "      <td>1522699175000</td>\n",
       "      <td>105</td>\n",
       "      <td>OPEN</td>\n",
       "      <td>1522695600</td>\n",
       "      <td>75</td>\n",
       "      <td>Fog</td>\n",
       "      <td>1522695600</td>\n",
       "      <td>fog</td>\n",
       "      <td>1522648470</td>\n",
       "      <td>1522695801</td>\n",
       "      <td>6.51</td>\n",
       "      <td>2.1</td>\n",
       "      <td>2018-04-02 19:59:35</td>\n",
       "      <td>19</td>\n",
       "      <td>0</td>\n",
       "      <td>0</td>\n",
       "    </tr>\n",
       "  </tbody>\n",
       "</table>\n",
       "</div>"
      ],
      "text/plain": [
       "        Unnamed: 0  available_bike_stands  available_bikes  bike_stands  \\\n",
       "124074      124074                     31                5           36   \n",
       "124075      124075                     31                5           36   \n",
       "124591      124591                     31                5           36   \n",
       "124592      124592                     31                5           36   \n",
       "124593      124593                     31                5           36   \n",
       "\n",
       "          last_update  number status  latest_weather  clouds conditions  \\\n",
       "124074  1522696105000     105   OPEN      1522693800      75        Fog   \n",
       "124075  1522696719000     105   OPEN      1522693800      75        Fog   \n",
       "124591  1522697334000     105   OPEN      1522695600      75        Fog   \n",
       "124592  1522697949000     105   OPEN      1522695600      75        Fog   \n",
       "124593  1522699175000     105   OPEN      1522695600      75        Fog   \n",
       "\n",
       "              date description     sunrise      sunset  temperature  wind  \\\n",
       "124074  1522693800         fog  1522648473  1522695799         7.00   3.1   \n",
       "124075  1522693800         fog  1522648473  1522695799         7.00   3.1   \n",
       "124591  1522695600         fog  1522648470  1522695801         6.51   2.1   \n",
       "124592  1522695600         fog  1522648470  1522695801         6.51   2.1   \n",
       "124593  1522695600         fog  1522648470  1522695801         6.51   2.1   \n",
       "\n",
       "                 date_time  hours  days  day  \n",
       "124074 2018-04-02 19:08:25     19     0    0  \n",
       "124075 2018-04-02 19:18:39     19     0    0  \n",
       "124591 2018-04-02 19:28:54     19     0    0  \n",
       "124592 2018-04-02 19:39:09     19     0    0  \n",
       "124593 2018-04-02 19:59:35     19     0    0  "
      ]
     },
     "execution_count": 15,
     "metadata": {},
     "output_type": "execute_result"
    }
   ],
   "source": [
    "DataFrameDictHours['105/0/19']"
   ]
  },
  {
   "cell_type": "code",
   "execution_count": 17,
   "metadata": {
    "collapsed": true
   },
   "outputs": [],
   "source": [
    "with open('dict.pkl','wb') as output:\n",
    "    pickle.dump(DataFrameDictHours, output, pickle.HIGHEST_PROTOCOL)"
   ]
  },
  {
   "cell_type": "code",
   "execution_count": 18,
   "metadata": {
    "collapsed": true
   },
   "outputs": [],
   "source": [
    "del DataFrameDictHours"
   ]
  },
  {
   "cell_type": "code",
   "execution_count": 7,
   "metadata": {},
   "outputs": [
    {
     "name": "stdout",
     "output_type": "stream",
     "text": [
      "        Unnamed: 0  available_bike_stands  available_bikes  bike_stands  \\\n",
      "124074      124074                     31                5           36   \n",
      "124075      124075                     31                5           36   \n",
      "124591      124591                     31                5           36   \n",
      "124592      124592                     31                5           36   \n",
      "124593      124593                     31                5           36   \n",
      "\n",
      "          last_update  number status  latest_weather  clouds conditions  \\\n",
      "124074  1522696105000     105   OPEN      1522693800      75        Fog   \n",
      "124075  1522696719000     105   OPEN      1522693800      75        Fog   \n",
      "124591  1522697334000     105   OPEN      1522695600      75        Fog   \n",
      "124592  1522697949000     105   OPEN      1522695600      75        Fog   \n",
      "124593  1522699175000     105   OPEN      1522695600      75        Fog   \n",
      "\n",
      "              date description     sunrise      sunset  temperature  wind  \\\n",
      "124074  1522693800         fog  1522648473  1522695799         7.00   3.1   \n",
      "124075  1522693800         fog  1522648473  1522695799         7.00   3.1   \n",
      "124591  1522695600         fog  1522648470  1522695801         6.51   2.1   \n",
      "124592  1522695600         fog  1522648470  1522695801         6.51   2.1   \n",
      "124593  1522695600         fog  1522648470  1522695801         6.51   2.1   \n",
      "\n",
      "                 date_time  hours  days  day  \n",
      "124074 2018-04-02 19:08:25     19     0    0  \n",
      "124075 2018-04-02 19:18:39     19     0    0  \n",
      "124591 2018-04-02 19:28:54     19     0    0  \n",
      "124592 2018-04-02 19:39:09     19     0    0  \n",
      "124593 2018-04-02 19:59:35     19     0    0  \n"
     ]
    }
   ],
   "source": [
    "with open('dict.pkl','rb') as input:\n",
    "    DataFrameDictHours = pickle.load(input)\n",
    "    print(DataFrameDictHours['105/0/19'])"
   ]
  },
  {
   "cell_type": "code",
   "execution_count": 9,
   "metadata": {},
   "outputs": [
    {
     "name": "stderr",
     "output_type": "stream",
     "text": [
      "/home/robbie/anaconda3/lib/python3.6/site-packages/sklearn/cross_validation.py:41: DeprecationWarning: This module was deprecated in version 0.18 in favor of the model_selection module into which all the refactored classes and functions are moved. Also note that the interface of the new CV iterators are different from that of this module. This module will be removed in 0.20.\n",
      "  \"This module will be removed in 0.20.\", DeprecationWarning)\n"
     ]
    }
   ],
   "source": [
    "from sklearn.linear_model import LinearRegression\n",
    "from sklearn import metrics\n",
    "from sklearn.cross_validation import cross_val_score\n",
    "from sklearn.tree import export_graphviz\n",
    "from sklearn.tree import DecisionTreeClassifier\n",
    "from sklearn.ensemble import RandomForestClassifier"
   ]
  },
  {
   "cell_type": "code",
   "execution_count": 7,
   "metadata": {},
   "outputs": [
    {
     "data": {
      "text/plain": [
       "17640"
      ]
     },
     "execution_count": 7,
     "metadata": {},
     "output_type": "execute_result"
    }
   ],
   "source": [
    "105*24*7"
   ]
  },
  {
   "cell_type": "code",
   "execution_count": null,
   "metadata": {
    "collapsed": true
   },
   "outputs": [],
   "source": []
  },
  {
   "cell_type": "code",
   "execution_count": null,
   "metadata": {},
   "outputs": [
    {
     "name": "stderr",
     "output_type": "stream",
     "text": [
      "/home/robbie/anaconda3/lib/python3.6/site-packages/sklearn/ensemble/forest.py:453: UserWarning: Some inputs do not have OOB scores. This probably means too few trees were used to compute any reliable oob estimates.\n",
      "  warn(\"Some inputs do not have OOB scores. \"\n",
      "/home/robbie/anaconda3/lib/python3.6/site-packages/sklearn/ensemble/forest.py:458: RuntimeWarning: invalid value encountered in true_divide\n",
      "  predictions[k].sum(axis=1)[:, np.newaxis])\n",
      "/home/robbie/anaconda3/lib/python3.6/site-packages/sklearn/ensemble/forest.py:453: UserWarning: Some inputs do not have OOB scores. This probably means too few trees were used to compute any reliable oob estimates.\n",
      "  warn(\"Some inputs do not have OOB scores. \"\n",
      "/home/robbie/anaconda3/lib/python3.6/site-packages/sklearn/ensemble/forest.py:458: RuntimeWarning: invalid value encountered in true_divide\n",
      "  predictions[k].sum(axis=1)[:, np.newaxis])\n",
      "/home/robbie/anaconda3/lib/python3.6/site-packages/sklearn/ensemble/forest.py:453: UserWarning: Some inputs do not have OOB scores. This probably means too few trees were used to compute any reliable oob estimates.\n",
      "  warn(\"Some inputs do not have OOB scores. \"\n",
      "/home/robbie/anaconda3/lib/python3.6/site-packages/sklearn/ensemble/forest.py:458: RuntimeWarning: invalid value encountered in true_divide\n",
      "  predictions[k].sum(axis=1)[:, np.newaxis])\n"
     ]
    }
   ],
   "source": [
    "model_dict = {}\n",
    "for key in DataFrameDictHours.keys():\n",
    "    if DataFrameDictHours[key][['wind','temperature']].shape[0]==0:\n",
    "        continue\n",
    "    if DataFrameDictHours[key]['available_bikes'].shape[0]==0:\n",
    "        continue\n",
    "    rfc = RandomForestClassifier(n_estimators=100, max_features='auto', oob_score=True, random_state=1)\n",
    "    model_dict[key]=rfc.fit(DataFrameDictHours[key][['wind','temperature']],DataFrameDictHours[key]['available_bikes'])"
   ]
  },
  {
   "cell_type": "code",
   "execution_count": null,
   "metadata": {
    "collapsed": true
   },
   "outputs": [],
   "source": []
  },
  {
   "cell_type": "code",
   "execution_count": null,
   "metadata": {
    "collapsed": true
   },
   "outputs": [],
   "source": []
  },
  {
   "cell_type": "code",
   "execution_count": null,
   "metadata": {
    "collapsed": true
   },
   "outputs": [],
   "source": []
  },
  {
   "cell_type": "code",
   "execution_count": null,
   "metadata": {
    "collapsed": true
   },
   "outputs": [],
   "source": []
  },
  {
   "cell_type": "code",
   "execution_count": null,
   "metadata": {
    "collapsed": true
   },
   "outputs": [],
   "source": []
  },
  {
   "cell_type": "code",
   "execution_count": 6,
   "metadata": {
    "collapsed": true
   },
   "outputs": [],
   "source": [
    "X=DataFrameDict['105/23'][['wind','temperature']]"
   ]
  },
  {
   "cell_type": "code",
   "execution_count": 7,
   "metadata": {
    "collapsed": true
   },
   "outputs": [],
   "source": [
    "y=DataFrameDict['105/23'][['available_bikes']]"
   ]
  },
  {
   "cell_type": "code",
   "execution_count": 8,
   "metadata": {
    "collapsed": true
   },
   "outputs": [],
   "source": [
    "#print(\"Descriptive features:\\n\", X)\n",
    "#print(\"\\nTarget feature:\\n\", y)\n",
    "\n",
    "#logreg = LinearRegression().fit(X, y)\n",
    "\n",
    "#predictions = logreg.predict(X)\n",
    "\n",
    "#print(\"Accuracy: \", metrics.accuracy_score(y, predictions))\n",
    "#print(\"Confusion matrix: \\n\", metrics.confusion_matrix(y, predictions))\n",
    "#print(\"Classification report:\\n \", metrics.classification_report(y, predictions))"
   ]
  },
  {
   "cell_type": "code",
   "execution_count": 9,
   "metadata": {},
   "outputs": [
    {
     "data": {
      "text/plain": [
       "DecisionTreeClassifier(class_weight=None, criterion='gini', max_depth=3,\n",
       "            max_features=None, max_leaf_nodes=None,\n",
       "            min_impurity_decrease=0.0, min_impurity_split=None,\n",
       "            min_samples_leaf=1, min_samples_split=2,\n",
       "            min_weight_fraction_leaf=0.0, presort=False, random_state=1,\n",
       "            splitter='best')"
      ]
     },
     "execution_count": 9,
     "metadata": {},
     "output_type": "execute_result"
    }
   ],
   "source": [
    "dtc = DecisionTreeClassifier(max_depth=3, random_state=1)\n",
    "dtc.fit(X, y)"
   ]
  },
  {
   "cell_type": "code",
   "execution_count": 10,
   "metadata": {},
   "outputs": [
    {
     "data": {
      "text/html": [
       "<div>\n",
       "<style scoped>\n",
       "    .dataframe tbody tr th:only-of-type {\n",
       "        vertical-align: middle;\n",
       "    }\n",
       "\n",
       "    .dataframe tbody tr th {\n",
       "        vertical-align: top;\n",
       "    }\n",
       "\n",
       "    .dataframe thead th {\n",
       "        text-align: right;\n",
       "    }\n",
       "</style>\n",
       "<table border=\"1\" class=\"dataframe\">\n",
       "  <thead>\n",
       "    <tr style=\"text-align: right;\">\n",
       "      <th></th>\n",
       "      <th>feature</th>\n",
       "      <th>importance</th>\n",
       "    </tr>\n",
       "  </thead>\n",
       "  <tbody>\n",
       "    <tr>\n",
       "      <th>0</th>\n",
       "      <td>wind</td>\n",
       "      <td>0.306196</td>\n",
       "    </tr>\n",
       "    <tr>\n",
       "      <th>1</th>\n",
       "      <td>temperature</td>\n",
       "      <td>0.693804</td>\n",
       "    </tr>\n",
       "  </tbody>\n",
       "</table>\n",
       "</div>"
      ],
      "text/plain": [
       "       feature  importance\n",
       "0         wind    0.306196\n",
       "1  temperature    0.693804"
      ]
     },
     "execution_count": 10,
     "metadata": {},
     "output_type": "execute_result"
    }
   ],
   "source": [
    "pd.DataFrame({'feature': X.columns, 'importance': dtc.feature_importances_})"
   ]
  },
  {
   "cell_type": "code",
   "execution_count": 11,
   "metadata": {
    "collapsed": true
   },
   "outputs": [],
   "source": [
    "# Alternative to print a tree in text format\n",
    "\"\"\"\n",
    "treeviz.py\n",
    "\n",
    "A simple tree visualizer for sklearn DecisionTreeClassifiers.\n",
    "\n",
    "Written by Lutz Hamel, (c) 2017 - Univeristy of Rhode Island\n",
    "\"\"\"\n",
    "import operator\n",
    "\n",
    "def tree_print(clf, X):\n",
    "    \"\"\"\n",
    "    Print the tree of a sklearn DecisionTreeClassifier\n",
    "\n",
    "    Parameters\n",
    "    ----------\n",
    "    clf : DecisionTreeClassifier - A tree that has already been fit.\n",
    "    X : The original training set\n",
    "    \"\"\"\n",
    "    tlevel = _tree_rprint('', clf, X.columns, clf.classes_)\n",
    "    print('<',end='')\n",
    "    for i in range(3*tlevel - 2):\n",
    "        print('-',end='')\n",
    "    print('>')\n",
    "    print('Tree Depth: ',tlevel)\n",
    "\n",
    "def _tree_rprint(kword, clf, features, labels, node_index=0, tlevel_index=0):\n",
    "    # Note: The DecisionTreeClassifier uses the Tree structure defined in:\n",
    "    # \t\tgithub.com/scikit-learn/scikit-learn/blob/master/sklearn/tree/_tree.pyx\n",
    "    #       it is an array based tree implementation:\n",
    "\n",
    "    # indent the nodes according to their tree level\n",
    "    for i in range(tlevel_index):\n",
    "        print('  |',end='')\n",
    "\n",
    "\t#  TODO: the following should use the TREE_LEAF constant defined in _tree.pyx\n",
    "\t#        instead of -1, not quite sure how to get at it from the tree user level\n",
    "    if clf.tree_.children_left[node_index] == -1:  # indicates leaf\n",
    "        print(kword, end=' ' if kword else '')\n",
    "        # get the majority label\n",
    "        count_list = clf.tree_.value[node_index, 0]\n",
    "        max_index, max_value = max(enumerate(count_list), key=operator.itemgetter(1))\n",
    "        max_label = labels[max_index]\n",
    "        print(max_label)\n",
    "        return tlevel_index\n",
    "    \n",
    "    else:\n",
    "        # compute and print node label\n",
    "        feature = features[clf.tree_.feature[node_index]]\n",
    "        threshold = clf.tree_.threshold[node_index]\n",
    "        print(kword, end=' ' if kword else '')\n",
    "        print('if {} =< {}: '.format(feature, threshold))\n",
    "        # recurse down the children\n",
    "        left_index = clf.tree_.children_left[node_index]\n",
    "        right_index = clf.tree_.children_right[node_index]\n",
    "        ltlevel_index = _tree_rprint('then', clf, features, labels, left_index, tlevel_index+1)\n",
    "        rtlevel_index = _tree_rprint('else', clf, features, labels, right_index, tlevel_index+1)\n",
    "        # return the maximum depth of either one of the children\n",
    "        return max(ltlevel_index,rtlevel_index)"
   ]
  },
  {
   "cell_type": "code",
   "execution_count": 12,
   "metadata": {},
   "outputs": [
    {
     "name": "stdout",
     "output_type": "stream",
     "text": [
      "if temperature =< 3.9700000286102295: \n",
      "  |then if wind =< 3.3499999046325684: \n",
      "  |  |then if temperature =< 2.0: \n",
      "  |  |  |then 2\n",
      "  |  |  |else 7\n",
      "  |  |else if temperature =< 2.809999942779541: \n",
      "  |  |  |then 11\n",
      "  |  |  |else 2\n",
      "  |else if temperature =< 5.279999732971191: \n",
      "  |  |then 8\n",
      "  |  |else if wind =< 3.8499999046325684: \n",
      "  |  |  |then 4\n",
      "  |  |  |else 5\n",
      "<------->\n",
      "Tree Depth:  3\n"
     ]
    }
   ],
   "source": [
    "# Use the function tree_print defined above to plot a decision tree in text format\n",
    "tree_print(dtc, X)"
   ]
  },
  {
   "cell_type": "code",
   "execution_count": 13,
   "metadata": {},
   "outputs": [
    {
     "data": {
      "text/plain": [
       "array([ 7,  7,  7,  7,  7,  7,  7,  7,  7,  7,  7,  8,  8,  8,  8,  8, 11,\n",
       "        2,  2,  2,  2,  2,  2,  2,  2,  2,  4,  4,  4,  4,  4,  5,  5,  5,\n",
       "       11, 11, 11,  5,  5,  5])"
      ]
     },
     "execution_count": 13,
     "metadata": {},
     "output_type": "execute_result"
    }
   ],
   "source": [
    "dtc.predict(X)"
   ]
  },
  {
   "cell_type": "code",
   "execution_count": 17,
   "metadata": {
    "collapsed": true
   },
   "outputs": [],
   "source": [
    "predictions=dtc.predict(X)"
   ]
  },
  {
   "cell_type": "code",
   "execution_count": 18,
   "metadata": {},
   "outputs": [
    {
     "name": "stdout",
     "output_type": "stream",
     "text": [
      "Accuracy:  0.775\n"
     ]
    }
   ],
   "source": [
    "print(\"Accuracy: \", metrics.accuracy_score(y, predictions))"
   ]
  },
  {
   "cell_type": "code",
   "execution_count": 20,
   "metadata": {},
   "outputs": [
    {
     "name": "stdout",
     "output_type": "stream",
     "text": [
      "MSE:  7.15\n"
     ]
    }
   ],
   "source": [
    "print(\"MSE: \", metrics.mean_squared_error(y,predictions))"
   ]
  },
  {
   "cell_type": "code",
   "execution_count": 21,
   "metadata": {},
   "outputs": [
    {
     "name": "stdout",
     "output_type": "stream",
     "text": [
      "MAE:  1.15\n"
     ]
    }
   ],
   "source": [
    "print(\"MAE: \", metrics.mean_absolute_error(y,predictions))"
   ]
  },
  {
   "cell_type": "code",
   "execution_count": 32,
   "metadata": {
    "collapsed": true
   },
   "outputs": [],
   "source": [
    "y=y['available_bikes']"
   ]
  },
  {
   "cell_type": "code",
   "execution_count": 38,
   "metadata": {},
   "outputs": [
    {
     "name": "stderr",
     "output_type": "stream",
     "text": [
      "/home/robbie/anaconda3/lib/python3.6/site-packages/sklearn/cross_validation.py:553: Warning: The least populated class in y has only 1 members, which is too few. The minimum number of labels for any class cannot be less than n_folds=10.\n",
      "  % (min_labels, self.n_folds)), Warning)\n"
     ]
    },
    {
     "name": "stdout",
     "output_type": "stream",
     "text": [
      "[-2.75       -1.71428571 -1.71428571 -1.2        -0.         -0.\n",
      " -1.         -1.         -1.         -0.        ]\n",
      "-1.0378571428571428\n"
     ]
    }
   ],
   "source": [
    "# Evaluate the model using 3-fold cross-validation.\n",
    "# Uses 2 parts of data for training and the last part for testing. \n",
    "# This process is repeated 3 times. More details about cross-validation here: http://www-bcf.usc.edu/~gareth/ISL/\n",
    "scores = cross_val_score(DecisionTreeClassifier(max_depth=3, random_state=1), X, y, scoring='neg_mean_absolute_error', cv=10)\n",
    "print(scores)\n",
    "print(scores.mean())"
   ]
  },
  {
   "cell_type": "code",
   "execution_count": 39,
   "metadata": {
    "collapsed": true
   },
   "outputs": [],
   "source": [
    "rfc = RandomForestClassifier(n_estimators=100, max_features='auto', oob_score=True, random_state=1)"
   ]
  },
  {
   "cell_type": "code",
   "execution_count": 40,
   "metadata": {},
   "outputs": [
    {
     "data": {
      "text/plain": [
       "RandomForestClassifier(bootstrap=True, class_weight=None, criterion='gini',\n",
       "            max_depth=None, max_features='auto', max_leaf_nodes=None,\n",
       "            min_impurity_decrease=0.0, min_impurity_split=None,\n",
       "            min_samples_leaf=1, min_samples_split=2,\n",
       "            min_weight_fraction_leaf=0.0, n_estimators=100, n_jobs=1,\n",
       "            oob_score=True, random_state=1, verbose=0, warm_start=False)"
      ]
     },
     "execution_count": 40,
     "metadata": {},
     "output_type": "execute_result"
    }
   ],
   "source": [
    "rfc.fit(X, y)"
   ]
  },
  {
   "cell_type": "code",
   "execution_count": 46,
   "metadata": {
    "collapsed": true
   },
   "outputs": [],
   "source": [
    "rfc_predictions = rfc.predict(X)"
   ]
  },
  {
   "cell_type": "code",
   "execution_count": 43,
   "metadata": {},
   "outputs": [
    {
     "name": "stderr",
     "output_type": "stream",
     "text": [
      "/home/robbie/anaconda3/lib/python3.6/site-packages/sklearn/cross_validation.py:553: Warning: The least populated class in y has only 1 members, which is too few. The minimum number of labels for any class cannot be less than n_folds=10.\n",
      "  % (min_labels, self.n_folds)), Warning)\n"
     ]
    },
    {
     "name": "stdout",
     "output_type": "stream",
     "text": [
      "[-0.875 -0.    -0.    -0.    -0.    -0.    -0.    -0.    -0.    -0.   ]\n",
      "-0.0875\n"
     ]
    }
   ],
   "source": [
    "scores = cross_val_score(RandomForestClassifier(n_estimators=100, max_features='auto', oob_score=True, random_state=1), X, y, scoring='neg_mean_absolute_error', cv=10)\n",
    "print(scores)\n",
    "print(scores.mean())"
   ]
  },
  {
   "cell_type": "code",
   "execution_count": 44,
   "metadata": {},
   "outputs": [
    {
     "data": {
      "text/plain": [
       "0.95"
      ]
     },
     "execution_count": 44,
     "metadata": {},
     "output_type": "execute_result"
    }
   ],
   "source": [
    "rfc.oob_score_"
   ]
  },
  {
   "cell_type": "code",
   "execution_count": 45,
   "metadata": {},
   "outputs": [
    {
     "data": {
      "text/plain": [
       "2520"
      ]
     },
     "execution_count": 45,
     "metadata": {},
     "output_type": "execute_result"
    }
   ],
   "source": [
    "105*24"
   ]
  },
  {
   "cell_type": "code",
   "execution_count": null,
   "metadata": {
    "collapsed": true
   },
   "outputs": [],
   "source": []
  }
 ],
 "metadata": {
  "kernelspec": {
   "display_name": "Python 3",
   "language": "python",
   "name": "python3"
  },
  "language_info": {
   "codemirror_mode": {
    "name": "ipython",
    "version": 3
   },
   "file_extension": ".py",
   "mimetype": "text/x-python",
   "name": "python",
   "nbconvert_exporter": "python",
   "pygments_lexer": "ipython3",
   "version": "3.6.3"
  }
 },
 "nbformat": 4,
 "nbformat_minor": 2
}
